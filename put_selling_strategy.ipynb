{
 "cells": [
  {
   "cell_type": "code",
   "execution_count": 1,
   "id": "1463338c",
   "metadata": {},
   "outputs": [],
   "source": [
    "import pandas as pd\n",
    "import numpy as np\n",
    "import matplotlib.pyplot as plt\n",
    "import math\n",
    "from scipy.stats import norm, expon\n",
    "import pandas_datareader.data as web\n",
    "import math\n",
    "import datetime as dt"
   ]
  },
  {
   "cell_type": "code",
   "execution_count": 2,
   "id": "6e691c63",
   "metadata": {},
   "outputs": [],
   "source": [
    "def data_preprocess(price,window):\n",
    "    \n",
    "    log_return = np.log(price/price.shift(1))\n",
    "    log_return_sq = log_return**2\n",
    "    ma = log_return.rolling(window*252).mean() ## daily log return moving average\n",
    "    #variance = log_return_sq.rolling(window*252).mean() - ma**2 #daily log return variance\n",
    "    #sd = variance**0.5  #daily log return variance\n",
    "    sd = log_return.rolling(window*252).std()\n",
    "    sigma = sd/((1/252)**0.5)  \n",
    "    mu = ma/(1/252) + (sigma**2)/2 \n",
    "    \n",
    "    return sigma,mu,log_return\n",
    "\n",
    "\n",
    "N = norm.cdf\n",
    "\n",
    "def BS_CALL(S, K, T, r, sigma):\n",
    "    d1 = (np.log(S/K) + (r + sigma**2/2)*T) / (sigma*np.sqrt(T))\n",
    "    d2 = d1 - sigma * np.sqrt(T)\n",
    "    return S * N(d1) - K * np.exp(-r*T)* N(d2)\n",
    "\n",
    "def BS_PUT(S, K, T, r, sigma):\n",
    "    d1 = (np.log(S/K) + (r + sigma**2/2)*T) / (sigma*np.sqrt(T))\n",
    "    d2 = d1 - sigma* np.sqrt(T)\n",
    "    return K*np.exp(-r*T)*N(-d2) - S*N(-d1)"
   ]
  },
  {
   "cell_type": "code",
   "execution_count": 101,
   "id": "c60d35f8",
   "metadata": {},
   "outputs": [],
   "source": [
    "spy = web.DataReader(name='SPY', data_source='yahoo',start='2000-10-05', end = '2020-02-04')\n",
    "sigma,mu,log_return = data_preprocess(spy['Close'],10)\n",
    "s = sigma[-1]\n",
    "m = mu[-1]"
   ]
  },
  {
   "cell_type": "code",
   "execution_count": 104,
   "id": "e13fffdd",
   "metadata": {},
   "outputs": [
    {
     "name": "stdout",
     "output_type": "stream",
     "text": [
      "0.14743788364743796 0.12284626830247246\n",
      "0.9 367.42276544274216\n",
      "367.40375840434893\n"
     ]
    }
   ],
   "source": [
    "price = 378\n",
    "#s = 0.420010\n",
    "#m = -0.387797\n",
    "print(s,m)\n",
    "t = 7\n",
    "p = 0.90\n",
    "n = 1000000\n",
    "strike = price * np.exp(s* ((t/252)**0.5) * norm.ppf(1 - p) + (m - s**2/2)*(t/252))\n",
    "print(p,strike)\n",
    "simulated_p = price*np.exp(np.random.normal(0, (s**2 * t/252)**0.5 ,n) + (m - s**2/2)*t/252)\n",
    "simulated_p.sort()\n",
    "print(simulated_p[int(n*(1-p))])"
   ]
  },
  {
   "cell_type": "code",
   "execution_count": 108,
   "id": "f340c923",
   "metadata": {
    "scrolled": true
   },
   "outputs": [
    {
     "name": "stdout",
     "output_type": "stream",
     "text": [
      "put_price 0.5322424335029439\n",
      "mean payoff 0.10911364804707668\n"
     ]
    }
   ],
   "source": [
    "## fixed profit\n",
    "iv = 0.15\n",
    "put = BS_PUT(378,strike,t/252,0.05,iv)\n",
    "print('put_price',put)\n",
    "payoff = [min(s-strike, 0)+put for s in simulated_p]\n",
    "print('mean payoff',np.mean(payoff))"
   ]
  },
  {
   "cell_type": "code",
   "execution_count": null,
   "id": "e123f4d9",
   "metadata": {},
   "outputs": [],
   "source": []
  },
  {
   "cell_type": "code",
   "execution_count": null,
   "id": "11fa4341",
   "metadata": {},
   "outputs": [],
   "source": []
  },
  {
   "cell_type": "code",
   "execution_count": null,
   "id": "d7b1899e",
   "metadata": {},
   "outputs": [],
   "source": []
  },
  {
   "cell_type": "code",
   "execution_count": null,
   "id": "db5ec0f6",
   "metadata": {},
   "outputs": [],
   "source": []
  },
  {
   "cell_type": "code",
   "execution_count": null,
   "id": "4d242e9b",
   "metadata": {},
   "outputs": [],
   "source": []
  }
 ],
 "metadata": {
  "kernelspec": {
   "display_name": "Python 3 (ipykernel)",
   "language": "python",
   "name": "python3"
  },
  "language_info": {
   "codemirror_mode": {
    "name": "ipython",
    "version": 3
   },
   "file_extension": ".py",
   "mimetype": "text/x-python",
   "name": "python",
   "nbconvert_exporter": "python",
   "pygments_lexer": "ipython3",
   "version": "3.9.12"
  }
 },
 "nbformat": 4,
 "nbformat_minor": 5
}
